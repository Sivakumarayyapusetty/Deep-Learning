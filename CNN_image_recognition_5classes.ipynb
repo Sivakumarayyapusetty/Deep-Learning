{
 "cells": [
  {
   "cell_type": "code",
   "execution_count": 22,
   "metadata": {},
   "outputs": [],
   "source": [
    "# Part 1 - Building the CNN\n",
    "\n",
    "# Importing the Keras libraries and packages\n",
    "from keras.models import Sequential\n",
    "from keras.layers import Conv2D\n",
    "from keras.layers import MaxPooling2D\n",
    "from keras.layers import Flatten\n",
    "from keras.layers import Dense\n"
   ]
  },
  {
   "cell_type": "code",
   "execution_count": 23,
   "metadata": {},
   "outputs": [],
   "source": [
    "# Initialising the CNN\n",
    "classifier = Sequential()"
   ]
  },
  {
   "cell_type": "code",
   "execution_count": 24,
   "metadata": {},
   "outputs": [],
   "source": [
    "# Step 1 - Convolution\n",
    "classifier.add(Conv2D(32, (3, 3), input_shape = (64, 64, 3), activation = 'relu'))\n"
   ]
  },
  {
   "cell_type": "code",
   "execution_count": 25,
   "metadata": {},
   "outputs": [],
   "source": [
    "# Adding a second convolutional layer\n",
    "classifier.add(Conv2D(32, (3, 3), activation = 'relu'))\n",
    "classifier.add(MaxPooling2D(pool_size = (2, 2)))\n"
   ]
  },
  {
   "cell_type": "code",
   "execution_count": 26,
   "metadata": {},
   "outputs": [],
   "source": [
    "# Step 3 - Flattening\n",
    "classifier.add(Flatten())"
   ]
  },
  {
   "cell_type": "code",
   "execution_count": 27,
   "metadata": {},
   "outputs": [],
   "source": [
    "# Step 4 - Full connection\n",
    "# I have taken 5 classes so changed dense units = 5 and changed the final activation function to softmax as my clssmode is now 5\n",
    "classifier.add(Dense(units = 128, activation = 'relu'))\n",
    "\n",
    "classifier.add(Dense(units = 5, activation = 'softmax'))"
   ]
  },
  {
   "cell_type": "code",
   "execution_count": 28,
   "metadata": {},
   "outputs": [],
   "source": [
    "# Compiling the CNN\n",
    "# for 2 closses only loss should be binary_crossentropy, for categorical its categorical_crossentropy\n",
    "classifier.compile(optimizer = 'adam', loss = 'categorical_crossentropy', metrics = ['accuracy'])\n"
   ]
  },
  {
   "cell_type": "code",
   "execution_count": 30,
   "metadata": {},
   "outputs": [
    {
     "name": "stdout",
     "output_type": "stream",
     "text": [
      "C:\\Users\\user\\Anaconda3\\lib\\site-packages\\PIL\\Image.py\n",
      "Found 45 images belonging to 5 classes.\n",
      "Found 45 images belonging to 5 classes.\n",
      "Epoch 1/1\n",
      "40/40 [==============================] - 326s 8s/step - loss: 0.1593 - accuracy: 0.9567 - val_loss: 0.0055 - val_accuracy: 1.0000\n"
     ]
    },
    {
     "data": {
      "text/plain": [
       "<keras.callbacks.callbacks.History at 0x2a20c16d808>"
      ]
     },
     "execution_count": 30,
     "metadata": {},
     "output_type": "execute_result"
    }
   ],
   "source": [
    "# Part 2 - Fitting the CNN to the images\n",
    "from PIL import Image\n",
    "print(Image.__file__)\n",
    "from keras.preprocessing.image import ImageDataGenerator\n",
    "\n",
    "train_datagen = ImageDataGenerator(rescale = 1./255,\n",
    "                                   shear_range = 0.2,\n",
    "                                   zoom_range = 0.2,\n",
    "                                   horizontal_flip = True)\n",
    "\n",
    "test_datagen = ImageDataGenerator(rescale = 1./255)\n",
    "\n",
    "training_set = train_datagen.flow_from_directory('C:/Users/user/Documents/iNeuron/DL/myphotos',\n",
    "                                                 target_size = (64, 64),\n",
    "                                                 class_mode = 'categorical',\n",
    "                                                 batch_size = 32)\n",
    "                                                 \n",
    "\n",
    "test_set = test_datagen.flow_from_directory('C:/Users/user/Documents/iNeuron/DL/myphotos',\n",
    "                                            target_size = (64, 64),\n",
    "                                            class_mode = 'categorical',\n",
    "                                            batch_size = 32)\n",
    "\n",
    "classifier.fit_generator(training_set,\n",
    "                         steps_per_epoch = 40,\n",
    "                         epochs = 1,\n",
    "                         validation_data = test_set,    \n",
    "                         validation_steps = 40)"
   ]
  },
  {
   "cell_type": "code",
   "execution_count": 44,
   "metadata": {},
   "outputs": [
    {
     "name": "stdout",
     "output_type": "stream",
     "text": [
      "final [0. 0. 0. 0. 1.]\n",
      "test1 [0, 4]\n",
      "test2 [0, 3]\n",
      "test3 [0, 2]\n",
      "test4 [0, 1]\n",
      "test5 [0, 0]\n",
      "sunny\n"
     ]
    }
   ],
   "source": [
    "import numpy as np\n",
    "from keras.preprocessing import image\n",
    "test_image = image.load_img('C:/Users/user/Documents/iNeuron/DL/myphotos/sunny/lucky1.jpg', target_size = (64, 64))\n",
    "test_image = image.img_to_array(test_image)\n",
    "test_image = np.expand_dims(test_image, axis = 0)\n",
    "result = classifier.predict(test_image)\n",
    "training_set.class_indices\n",
    "\n",
    "for i in result:\n",
    "    print('final',i)\n",
    "    print('test1',[0,4])\n",
    "    print('test2',[0,3])\n",
    "    print('test3',[0,2])\n",
    "    print('test4',[0,1])\n",
    "    print('test5',[0,0])\n",
    "    if result[0,4] == 1:\n",
    "        prediction = 'sunny'\n",
    "        print(prediction)\n",
    "    \n",
    "    elif result[0,3] == 1:\n",
    "        prediction = 'siva'\n",
    "        print(prediction)\n",
    "    elif result[0,2] == 1:   \n",
    "        prediction = 'poornima'\n",
    "        print(prediction)\n",
    "    elif result[0,1] == 1:\n",
    "        prediction = 'cherry'\n",
    "        print(prediction)\n",
    "    else:\n",
    "        prediction = 'Bhuvanesh'\n",
    "        print(prediction)\n"
   ]
  },
  {
   "cell_type": "code",
   "execution_count": 45,
   "metadata": {},
   "outputs": [
    {
     "name": "stdout",
     "output_type": "stream",
     "text": [
      "final [1. 0. 0. 0. 0.]\n",
      "test1 [0, 4]\n",
      "test2 [0, 3]\n",
      "test3 [0, 2]\n",
      "test4 [0, 1]\n",
      "test5 [0, 0]\n",
      "Bhuvanesh\n"
     ]
    }
   ],
   "source": [
    "import numpy as np\n",
    "from keras.preprocessing import image\n",
    "test_image = image.load_img('C:/Users/user/Documents/iNeuron/DL/myphotos/Bhuvanesh/b6.jpg', target_size = (64, 64))\n",
    "test_image = image.img_to_array(test_image)\n",
    "test_image = np.expand_dims(test_image, axis = 0)\n",
    "result = classifier.predict(test_image)\n",
    "training_set.class_indices\n",
    "\n",
    "for i in result:\n",
    "    print('final',i)\n",
    "    print('test1',[0,4])\n",
    "    print('test2',[0,3])\n",
    "    print('test3',[0,2])\n",
    "    print('test4',[0,1])\n",
    "    print('test5',[0,0])\n",
    "    if result[0,4] == 1:\n",
    "        prediction = 'sunny'\n",
    "        print(prediction)\n",
    "    \n",
    "    elif result[0,3] == 1:\n",
    "        prediction = 'siva'\n",
    "        print(prediction)\n",
    "    elif result[0,2] == 1:   \n",
    "        prediction = 'poornima'\n",
    "        print(prediction)\n",
    "    elif result[0,1] == 1:\n",
    "        prediction = 'cherry'\n",
    "        print(prediction)\n",
    "    else:\n",
    "        prediction = 'Bhuvanesh'\n",
    "        print(prediction)"
   ]
  },
  {
   "cell_type": "code",
   "execution_count": 46,
   "metadata": {},
   "outputs": [
    {
     "name": "stdout",
     "output_type": "stream",
     "text": [
      "final [0. 0. 1. 0. 0.]\n",
      "test1 [0, 4]\n",
      "test2 [0, 3]\n",
      "test3 [0, 2]\n",
      "test4 [0, 1]\n",
      "test5 [0, 0]\n",
      "poornima\n"
     ]
    }
   ],
   "source": [
    "import numpy as np\n",
    "from keras.preprocessing import image\n",
    "test_image = image.load_img('C:/Users/user/Documents/iNeuron/DL/myphotos/poornima/p5.jpg', target_size = (64, 64))\n",
    "test_image = image.img_to_array(test_image)\n",
    "test_image = np.expand_dims(test_image, axis = 0)\n",
    "result = classifier.predict(test_image)\n",
    "training_set.class_indices\n",
    "\n",
    "for i in result:\n",
    "    print('final',i)\n",
    "    print('test1',[0,4])\n",
    "    print('test2',[0,3])\n",
    "    print('test3',[0,2])\n",
    "    print('test4',[0,1])\n",
    "    print('test5',[0,0])\n",
    "    if result[0,4] == 1:\n",
    "        prediction = 'sunny'\n",
    "        print(prediction)\n",
    "    \n",
    "    elif result[0,3] == 1:\n",
    "        prediction = 'siva'\n",
    "        print(prediction)\n",
    "    elif result[0,2] == 1:   \n",
    "        prediction = 'poornima'\n",
    "        print(prediction)\n",
    "    elif result[0,1] == 1:\n",
    "        prediction = 'cherry'\n",
    "        print(prediction)\n",
    "    else:\n",
    "        prediction = 'Bhuvanesh'\n",
    "        print(prediction)"
   ]
  },
  {
   "cell_type": "markdown",
   "metadata": {},
   "source": [
    "prediction are 100% accurate"
   ]
  }
 ],
 "metadata": {
  "kernelspec": {
   "display_name": "Python 3",
   "language": "python",
   "name": "python3"
  },
  "language_info": {
   "codemirror_mode": {
    "name": "ipython",
    "version": 3
   },
   "file_extension": ".py",
   "mimetype": "text/x-python",
   "name": "python",
   "nbconvert_exporter": "python",
   "pygments_lexer": "ipython3",
   "version": "3.7.4"
  }
 },
 "nbformat": 4,
 "nbformat_minor": 2
}
